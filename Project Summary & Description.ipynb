{
    "cells": [
        {
            "metadata": {
                "collapsed": true
            },
            "cell_type": "markdown",
            "source": "# The Battle of the Neighborhoods-Vegan Restaurants in New York City\n***\n"
        },
        {
            "metadata": {},
            "cell_type": "markdown",
            "source": "## Project Motivation and Background"
        },
        {
            "metadata": {},
            "cell_type": "markdown",
            "source": "### *New York City*\nNew York City is one of the most populous cities in the world.  With an estimated population of over 8 million people and over 65 million visitors in [2018](https://www.baruch.cuny.edu/nycdata/population-geography/population.htm), New York is very diverse and has many different offerings for it's many tourists and residents.  New York City has over 24,000 restaurants, of many different varieties and cuisines,with approximately 10,000 located in Manhattan [alone](https://www.baruch.cuny.edu/nycdata/nycfood.htm).  \n\n### *Vegan/Vegetarian Restaruants*\nVegan and vegetarian diets have grown significantly in popularity in the last few years. Many people may choose to follow plant based diets for a variety of different reasons, such as concern for animal welfare, positive health benefits or environmental concerns. There are currently over 9 million Americans who adhere to a plant based [diet](https://thebeet.com/the-number-of-americans-eating-plant-based-has-passed-9-7-million-survey-finds/) and many of those people will inevitably travel to locations around the world and will look for places to eat that may accommodate dietary needs. In 2018, the global vegan food market was estimated to be over $12 billion, which shows that there is a definate market for plant based foods around the [world](https://healthcareers.co/vegan-statistics/).   \n\n### *Target Audience*\nThe audience for this project could be either a person or company looking to open a plant based restaurant, or a tourist coming to NYC and looking to find plant based food options while there.  As seen above, with a number of visitors coming to New York City each year and with a significant number of Americans now adhering to plant based diets, there could certainly be a market for vegan or vegetarian cuisine in New York. "
        },
        {
            "metadata": {},
            "cell_type": "markdown",
            "source": "## Data and Resources"
        },
        {
            "metadata": {},
            "cell_type": "markdown",
            "source": "This project utilizes publically available data regarding New York City neighborhoods & boroughs from https://cocl.us/new_york_dataset.  We will also be utilizing the Foursquare API to find locations and information regarding existing vegan/vegetarian restaurants already in NYC(specifically Manhattan borough).  "
        },
        {
            "metadata": {},
            "cell_type": "markdown",
            "source": "## Data Usage & Project Plan\n\n#### Project steps:\n\n#### *Data Collection & Cleaning*                                        \n                     \n\n#### *Gather Foursquare API Credentials*                 \n#### *Analyze Each Neighborhood*               \n                           \n#### *K-Means Neighborhood Clustering Analysis on NYC & Manhattan locations*                            \n                                \n#### *Analyze Results* "
        },
        {
            "metadata": {},
            "cell_type": "code",
            "source": "",
            "execution_count": null,
            "outputs": []
        }
    ],
    "metadata": {
        "kernelspec": {
            "name": "python3",
            "display_name": "Python 3.7",
            "language": "python"
        },
        "language_info": {
            "name": "python",
            "version": "3.7.9",
            "mimetype": "text/x-python",
            "codemirror_mode": {
                "name": "ipython",
                "version": 3
            },
            "pygments_lexer": "ipython3",
            "nbconvert_exporter": "python",
            "file_extension": ".py"
        }
    },
    "nbformat": 4,
    "nbformat_minor": 1
}